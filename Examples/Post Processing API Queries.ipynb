{
 "cells": [
  {
   "cell_type": "markdown",
   "metadata": {},
   "source": [
    "# Post Processing API Queries\n",
    "In most cases you will need to processes the raw API response to conduct analysis specific to your use case. This notebook gives some examples of common post processing you may need to do.\n",
    "\n",
    "## Table of Contents\n",
    "1. [Converting to different file formats](#file-formats)\n",
    "    1. [Shapefile](#shapefile)\n",
    "    2. [Geojson](#geojson)\n",
    "    3. [Excel spreadsheet (csv)](#spreadsheet)\n",
    "2. [Collapse geometry to point](#collapse)\n",
    "3. [Combine with census data](#census)\n",
    "4. [Convert postcode to lat lon](#postcode)\n",
    "5. [Add nearest building to greenspace](#nearest)"
   ]
  },
  {
   "cell_type": "markdown",
   "metadata": {},
   "source": [
    "# Converting to different file formats<a name=\"file-formats\" />\n",
    "The OS API Wrapper returns queries as a python dictionary in geojson format. The following examples show how to convert the response geojson into a GeoDataFrame and save as a geojson and shapefile.\n",
    "\n",
    "If you do not need to do any geospatial analysis, then you could save the response as a csv. A way of doing this is also shown.\n",
    "\n",
    "The code block immediately below will get the raw response."
   ]
  },
  {
   "cell_type": "code",
   "execution_count": null,
   "metadata": {},
   "outputs": [],
   "source": [
    "from OSAPIWrapper import Extent\n",
    "from OSAPIWrapper.FeaturesAPI import FeaturesAPI\n",
    "from os import environ\n",
    "\n",
    "# Set your API key and crs\n",
    "key = environ.get(\"OS_API_KEY\")\n",
    "crs = \"EPSG:27700\"\n",
    "\n",
    "# Define a bounding box extent for the reigion you want\n",
    "extent = Extent.from_bbox((600000, 310200, 600900, 310900), crs)\n",
    "\n",
    "# Choose your product\n",
    "product = \"zoomstack_local_buildings\"\n",
    "features_api = FeaturesAPI(key, product, extent)\n",
    "\n",
    "# Make the API call\n",
    "raw_response = features_api.query(limit=350)"
   ]
  },
  {
   "cell_type": "markdown",
   "metadata": {},
   "source": [
    "## Shapefile<a name=\"shapefile\" />\n",
    "We will first convert the raw_response into a GeoDataFrame, which makes it easier to manipulate geospatial data."
   ]
  },
  {
   "cell_type": "code",
   "execution_count": null,
   "metadata": {},
   "outputs": [],
   "source": [
    "import geopandas as gpd\n",
    "\n",
    "# Use the from_features() method to create a GeoDataFrame from a dictionary\n",
    "gdf = gpd.GeoDataFrame.from_features(raw_response['features'], crs=crs)\n",
    "\n",
    "# View the GeoDataFrame\n",
    "gdf.head()"
   ]
  },
  {
   "cell_type": "code",
   "execution_count": null,
   "metadata": {},
   "outputs": [],
   "source": [
    "# Save the geodataframe as a shapefile\n",
    "gdf.to_file(\"zoomsack_buildings.shp\")"
   ]
  },
  {
   "cell_type": "markdown",
   "metadata": {},
   "source": [
    "## Geojson<a name=\"geojson\" />"
   ]
  },
  {
   "cell_type": "code",
   "execution_count": null,
   "metadata": {},
   "outputs": [],
   "source": [
    "# Save the geodataframe as a geojson\n",
    "gdf.to_file(\"zoomsack_buildings.geojson\", driver=\"GeoJSON\")"
   ]
  },
  {
   "cell_type": "markdown",
   "metadata": {},
   "source": [
    "## Spreadsheet<a name=\"spreadsheet\" />\n",
    "They may be times where you are not interest in the geospatial aspect of the data and would therefore like to view the data in a spreadsheet. You could do this by converting the GeoDataFrame into a normal pandas DataFrame and then saving as a csv.\n",
    "\n",
    "Note that we will drop the `geometry` column in this example but this step is optional. If you don't drop the `geometry` column it will be saved as a string in the csv. The string representation of geometry is know as Well Known Text (WKT)"
   ]
  },
  {
   "cell_type": "code",
   "execution_count": null,
   "metadata": {},
   "outputs": [],
   "source": [
    "import pandas as pd\n",
    "\n",
    "\n",
    "df = pd.DataFrame(gdf.drop(columns=[\"geometry\"]))\n",
    "df.to_csv(\"zoomstack_buildings.csv\")"
   ]
  },
  {
   "cell_type": "markdown",
   "metadata": {},
   "source": [
    "# Collapse geometry to point<a name=\"collapse\" />\n",
    "Sometimes you may need to do geospatial analysis but may not require a polygon or linestring. It can therefore be useful to collapse polygons and lines into a single point. This will reduce your file size and also speed up certain geospatial calculations such as nearest neighbour.\n",
    "\n",
    "This example will use the same raw response we got from the [Converting to different file formats](#file-formats) section."
   ]
  },
  {
   "cell_type": "code",
   "execution_count": null,
   "metadata": {},
   "outputs": [],
   "source": [
    "import geopandas as gpd\n",
    "from OSAPIWrapper import Extent\n",
    "from OSAPIWrapper.FeaturesAPI import FeaturesAPI\n",
    "from os import environ\n",
    "\n",
    "\n",
    "# Set your API key and crs\n",
    "key = environ.get(\"OS_API_KEY\")\n",
    "crs = \"EPSG:27700\"\n",
    "\n",
    "# Define a bounding box extent for the reigion you want\n",
    "extent = Extent.from_bbox((600000, 310200, 600900, 310900), crs)\n",
    "\n",
    "# Choose your product\n",
    "product = \"zoomstack_local_buildings\"\n",
    "features_api = FeaturesAPI(key, product, extent)\n",
    "\n",
    "# Make the API call\n",
    "raw_response = features_api.query(limit=350)\n",
    "\n",
    "# Use the from_features() method to create a GeoDataFrame from the raw response\n",
    "gdf = gpd.GeoDataFrame.from_features(raw_response['features'], crs=crs)\n",
    "\n",
    "# View the geometry type before collaposing to point\n",
    "print(gdf.geometry.iloc[0:5], end=\"\\n\\n\")\n",
    "\n",
    "# GeoDataFrames have a built in attribute called \"centroid\" which calculates the middle point of the geometry column\n",
    "# Set the geometry column equal to this attribute\n",
    "gdf.geometry = gdf.centroid\n",
    "\n",
    "# View the geometry type after collaposing to point\n",
    "print(gdf.geometry.iloc[0:5])"
   ]
  },
  {
   "cell_type": "markdown",
   "metadata": {},
   "source": [
    "# Combine with census data<a name=\"census\" />\n",
    "Using the API wrapper, you can combine data provided in the standard ONS census geographies with Ordnance Survey data. This section will assume you have a working knowledge of the data supplied by ONS.\n",
    "\n",
    "In the following example, suppose you have a dataset which contains the codes of some LSOAs in the City of London. We will extract buildings for each LSOA and then join the two datasets on the LSOA code."
   ]
  },
  {
   "cell_type": "code",
   "execution_count": null,
   "metadata": {},
   "outputs": [],
   "source": [
    "import pandas as pd\n",
    "\n",
    "\n",
    "# Create a sample dataframe\n",
    "lsoa_codes = [\"E01000001\", \"E01000002\", \"E01000003\", \"E01000005\", \"E01032739\"]\n",
    "os_maps_per_household = [1, 8, 2, 3, 2]\n",
    "anuual_miles_hiked_per_household = [101, 428, 42, 23, 12]\n",
    "\n",
    "ons_df = pd.DataFrame({\"ons_code\": lsoa_codes,\n",
    "                       \"os_maps\": os_maps_per_household,\n",
    "                       \"anuual_miles_hiked\": anuual_miles_hiked_per_household,\n",
    "                       })\n",
    "ons_df"
   ]
  },
  {
   "cell_type": "code",
   "execution_count": null,
   "metadata": {},
   "outputs": [],
   "source": [
    "import geopandas as gpd\n",
    "from OSAPIWrapper import Extent\n",
    "from OSAPIWrapper.FeaturesAPI import FeaturesAPI\n",
    "from os import environ\n",
    "\n",
    "\n",
    "# Set your API key and crs\n",
    "key = environ.get(\"OS_API_KEY\")\n",
    "product = \"zoomstack_local_buildings\"\n",
    "\n",
    "# Iterate through the ONS codes and extract local buildings in each LSOA\n",
    "features = []\n",
    "for ons_code in lsoa_codes:\n",
    "    # Create an extent using the \"from_ons_code()\" method\n",
    "    # Note that when using the \"from_ons_code()\" method the response will always have CRS 4326\n",
    "    extent = Extent.from_ons_code(ons_code)\n",
    "    \n",
    "    # Make the query\n",
    "    features_api = FeaturesAPI(key, product, extent)\n",
    "    raw_response = features_api.query(limit=50)\n",
    "    \n",
    "    # Add the ons code to the response\n",
    "    for building in raw_response[\"features\"]:\n",
    "        building[\"properties\"][\"ons_code\"] = ons_code\n",
    "    \n",
    "    features.extend(raw_response[\"features\"])\n",
    "    crs = raw_response[\"crs\"]\n",
    "    \n",
    "\n",
    "# Create geodataframe\n",
    "gdf = gpd.GeoDataFrame.from_features(features, crs=crs)\n",
    "gdf.head()"
   ]
  },
  {
   "cell_type": "markdown",
   "metadata": {},
   "source": [
    "Next, we join this GeoDataFrame to the ons_df\n",
    "\n",
    "Note that if you merge a GeoDataFrame with a DataFrame you will get a GeoDataFrame. Similarly if you merge a DataFrame with a GeoDataFrame, in that order, you will get a DataFrame."
   ]
  },
  {
   "cell_type": "code",
   "execution_count": null,
   "metadata": {},
   "outputs": [],
   "source": [
    "gdf.merge(ons_df, on=\"ons_code\").head()"
   ]
  },
  {
   "cell_type": "markdown",
   "metadata": {},
   "source": [
    "# Convert postcode to lat lon<a name=\"postcode\" />\n",
    "In this section we show how to reproject a GeoDataFrame to a different CRS."
   ]
  },
  {
   "cell_type": "code",
   "execution_count": null,
   "metadata": {},
   "outputs": [],
   "source": [
    "import geopandas as gpd\n",
    "from OSAPIWrapper.PlacesAPI import PlacesAPI\n",
    "from os import environ\n",
    "\n",
    "\n",
    "key = environ.get(\"OS_API_KEY\")\n",
    "crs = \"epsg:27700\"\n",
    "places_api = PlacesAPI(key)\n",
    "\n",
    "# Query postcodes in BNG (27700)\n",
    "postcodes = places_api.postcode(\"SO16 0AS\", output_crs=crs)\n",
    "\n",
    "# Convert response to GeoDataFrame\n",
    "gdf = gpd.GeoDataFrame.from_features(postcodes[\"features\"], crs=crs)\n",
    "\n",
    "# Print geometry before projection\n",
    "print(\"***Before reprojection***\", gdf.geometry, sep=\"\\n\", end=\"\\n\\n\")\n",
    "\n",
    "# Reproject to WGS84 (4326)\n",
    "gdf.to_crs(\"epsg:4326\", inplace=True)\n",
    "\n",
    "print(\"***After reprojection***\", gdf.geometry, sep=\"\\n\")"
   ]
  },
  {
   "cell_type": "markdown",
   "metadata": {},
   "source": [
    "# Add nearest building to greenspace<a name=\"nearest\" />\n",
    "Sometimes you may have two datasets and will want to know what the closest element is for each row in a dataset. For example, you might get the roads dataset and the buildings dataset and  then want to attribute each road with the buildings that are nearest to it.\n",
    "\n",
    "Note that this example shows how to join features spatially but the datahub provides an API called [Linked Identifier](https://osdatahub.os.uk/docs/linkedIdentifiers/overview) which has the official linkage dataset. However, it is not supported by the OS API Wrapper.\n",
    "\n",
    "This section will query the greenspace data and postcode data separately. Then for each greenspace, we will find all the postcodes that are closest to the greenspace."
   ]
  },
  {
   "cell_type": "code",
   "execution_count": null,
   "metadata": {},
   "outputs": [],
   "source": [
    "import geopandas as gpd\n",
    "from OSAPIWrapper import Extent\n",
    "from OSAPIWrapper.PlacesAPI import PlacesAPI\n",
    "from OSAPIWrapper.FeaturesAPI import FeaturesAPI\n",
    "from os import environ\n",
    "\n",
    "key = environ.get(\"OS_API_KEY\")\n",
    "crs = \"epsg:27700\"\n",
    "product = \"greenspace_area\"\n",
    "\n",
    "extent = Extent.from_bbox((598000, 310200, 600900, 310900), crs)\n",
    "\n",
    "places_api = PlacesAPI(key)\n",
    "raw_places = places_api.query(extent, output_crs=crs)\n",
    "\n",
    "\n",
    "features_api = FeaturesAPI(key, product, extent)\n",
    "raw_greenspace = features_api.query(limit=50)\n",
    "\n",
    "# Query data \n",
    "places_gdf = gpd.GeoDataFrame.from_features(raw_places[\"features\"], crs=crs)\n",
    "greenspace_gdf = gpd.GeoDataFrame.from_features(raw_greenspace[\"features\"], crs=crs)"
   ]
  },
  {
   "cell_type": "code",
   "execution_count": null,
   "metadata": {},
   "outputs": [],
   "source": [
    "def get_nearest_uprn(greenspace_geometry, places_gdf):\n",
    "    # Calculate the distance between the input greenspace and all postcodes\n",
    "    distances = places_gdf.distance(greenspace_geometry)\n",
    "    \n",
    "    # Order the distance with shortest first\n",
    "    distances = distances.sort_values()\n",
    "    \n",
    "    # Get the index of the nearest UPRN\n",
    "    nearest_uprn_index = distances.index[0]\n",
    "    \n",
    "    # Get the UPRN code\n",
    "    nearest_uprn_code = places_gdf.loc[nearest_uprn_index].UPRN\n",
    "    return nearest_uprn_code\n",
    "\n",
    "# Add column for the nearest greenspace by applying the get_nearest_uprn() function\n",
    "greenspace_gdf[\"nearest_uprn\"] = greenspace_gdf.apply(lambda x: get_nearest_uprn(x.geometry, places_gdf), axis=1)\n",
    "\n",
    "greenspace_gdf.head()"
   ]
  }
 ],
 "metadata": {
  "kernelspec": {
   "display_name": "Python [conda env:geo_env]",
   "language": "python",
   "name": "conda-env-geo_env-py"
  },
  "language_info": {
   "codemirror_mode": {
    "name": "ipython",
    "version": 3
   },
   "file_extension": ".py",
   "mimetype": "text/x-python",
   "name": "python",
   "nbconvert_exporter": "python",
   "pygments_lexer": "ipython3",
   "version": "3.7.10"
  }
 },
 "nbformat": 4,
 "nbformat_minor": 4
}
