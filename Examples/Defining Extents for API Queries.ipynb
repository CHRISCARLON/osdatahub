{
 "cells": [
  {
   "cell_type": "markdown",
   "id": "b09bd7ea",
   "metadata": {},
   "source": [
    "# How to Define Extents\n",
    "\n",
    "To restrict your API query to a certain area, you'll need to define an `Extent`. The `Extent` object is a polygon that can convert itself into the xml format needed by the API query. You can use an existing polygon to create your extent by specifying the coordinates yourself, or by using a polygon from another source, such as a shapefile. `Extent` also has three convienence methods to cover common extent types, which don't require you to already have a polygon:\n",
    " - Extent.from_bbox()\n",
    " - Extent.from_radius()\n",
    " - Extent.from_ons_code()\n"
   ]
  },
  {
   "cell_type": "markdown",
   "id": "b4a0f889",
   "metadata": {},
   "source": [
    "## Extent from Polygon\n",
    "If you have a [Shapely polygon](https://shapely.readthedocs.io/en/stable/manual.html#polygons) that defines the area you would like to query within, you can pass this straight to `Extent`. This example shows how you can construct an extent to query the Features API for all the Zoomstack Local Buildings within a rectangle."
   ]
  },
  {
   "cell_type": "code",
   "execution_count": null,
   "id": "5b2ba243",
   "metadata": {},
   "outputs": [],
   "source": [
    "import os\r\n",
    "from shapely.geometry import Polygon\r\n",
    "from osdatahub import Extent\r\n",
    "from osdatahub import FeaturesAPI \r\n",
    "os.environ['PROJ_NETWORK'] = 'OFF'\r\n",
    "\r\n",
    "# Retrieve your OS Data Hub API key \r\n",
    "key = os.environ.get(\"OS_API_KEY\")\r\n",
    "\r\n",
    "# Define a rectangle by passing an ordered list of coordinate tuples.\r\n",
    "SW = (435000, 114500)\r\n",
    "SE = (437500, 114500)\r\n",
    "NE = (437500, 116000)\r\n",
    "NW = (435000, 116000)\r\n",
    "rectangle = Polygon([SW, SE, NE, NW])\r\n",
    "\r\n",
    "# You need to tell extent what type of coordinates you are using\r\n",
    "# These are British National Grid, which uses EPSG code 27700\r\n",
    "crs=\"EPSG:27700\"\r\n",
    "\r\n",
    "# Create the extent\r\n",
    "polygon_extent = Extent(rectangle, crs=crs)"
   ]
  },
  {
   "cell_type": "markdown",
   "id": "c2b1ef39",
   "metadata": {},
   "source": [
    "`Extent` stores its shapely polygon in the `.polygon` attribute, so we can plot it on a map to check it covers the area we wanted."
   ]
  },
  {
   "cell_type": "code",
   "execution_count": null,
   "id": "05055cf0",
   "metadata": {},
   "outputs": [],
   "source": [
    "import contextily as ctx\n",
    "import geopandas as gpd\n",
    "import matplotlib.pyplot as plt\n",
    "\n",
    "# Shapely polygon of extent\n",
    "polygon = polygon_extent.polygon\n",
    "\n",
    "# Plot the extent\n",
    "f, ax = plt.subplots(figsize=(12, 10))\n",
    "ax.plot(*zip(*polygon.exterior.coords), color=\"dimgray\", linestyle='--')\n",
    "basemap_url = \"https://api.os.uk/maps/raster/v1/zxy/Light_3857/{z}/{x}/{y}.png?key=\" + key\n",
    "ctx.add_basemap(ax, source=basemap_url, crs=crs, interpolation=\"sinc\")\n",
    "ax.set_xlabel(\"Eastings\"), ax.set_ylabel(\"Northings\")\n",
    "ax.set_title(\"Extent from Polygon\")\n",
    "plt.show()"
   ]
  },
  {
   "cell_type": "code",
   "execution_count": null,
   "id": "7ea09f05",
   "metadata": {},
   "outputs": [],
   "source": [
    "# The extent is then passed to the API to use in the query\n",
    "features = FeaturesAPI(key, \"zoomstack_local_buildings\", polygon_extent)\n",
    "# If you are querying a large area or a dense data product,\n",
    "# you may need to increase the limit to get all the data\n",
    "results = features.query(limit=10000)"
   ]
  },
  {
   "cell_type": "code",
   "execution_count": null,
   "id": "5812c0ff",
   "metadata": {},
   "outputs": [],
   "source": [
    "# Plot the results\n",
    "results_gdf = gpd.GeoDataFrame.from_features(results['features'], crs=crs)\n",
    "ax = results_gdf.plot(color=\"indigo\", figsize=(12, 10))\n",
    "ax.plot(*zip(*polygon.exterior.coords), color=\"dimgray\", linestyle='--')\n",
    "ctx.add_basemap(ax, source=basemap_url, crs=crs, interpolation=\"sinc\")\n",
    "ax.set_xlabel(\"Eastings\"), ax.set_ylabel(\"Northings\")\n",
    "ax.set_title(\"Zoomstack Local Buildings within Polygon Extent\")\n",
    "plt.show()"
   ]
  },
  {
   "cell_type": "markdown",
   "id": "d6e5b357",
   "metadata": {},
   "source": [
    "## Extent from Bounding Box\n",
    "If your extent is rectangular, instead of specifying all the coordinates and constructing a polygon, you can use the `Extent.from_bbox()` method, which only requires the coordinates of the South-West and North-East corners in the order (west, south, east, north). This results in the same `Extent` object as the previous example, just in fewer lines of code.\n",
    "\n",
    "You might use this if you want to return data that covers area currently visible in a web map, or if you want to match the bounds of another data source, such as a raster, geodataframe or shapefile."
   ]
  },
  {
   "cell_type": "code",
   "execution_count": null,
   "id": "f56e3580",
   "metadata": {},
   "outputs": [],
   "source": [
    "# Using the same coordinates as the previous example\n",
    "west, south = 435000, 114500\n",
    "east, north = 437500, 116000\n",
    "bbox_extent = Extent.from_bbox((west, south, east, north), crs=\"EPSG:27700\")\n",
    "\n",
    "# Check that both approaches give the same result\n",
    "print('Extents are equal:', polygon_extent == bbox_extent)"
   ]
  },
  {
   "cell_type": "markdown",
   "id": "8a9705b1",
   "metadata": {},
   "source": [
    "## Extent from Radius\n",
    "`Extent.from_radius()` is a convenient way to query for data within a certain distance of a point location. This method can only be used with `crs='EPSG:27700'` and `crs='EPSG:3857'`, which are projected coordinate systems and use units of meters. If you are using longitude and latitude, you will need to convert to one of the two supported projections first.\n",
    "\n",
    "(See [Introduction to Coordinate Systems / Spatial Reference Systems](https://gsp.humboldt.edu/olm/Lessons/GIS/03%20Projections/IntroductionToCoordinateSystems1.html) to understand the differences between projected and geographic coordinate systems)\n",
    "\n",
    "This example shows how you can query for all addresses within 200m of a point location."
   ]
  },
  {
   "cell_type": "code",
   "execution_count": null,
   "id": "5271acc6",
   "metadata": {},
   "outputs": [],
   "source": [
    "from osdatahub import PlacesAPI\r\n",
    "\r\n",
    "point = (441317, 112165)\r\n",
    "distance = 200\r\n",
    "radial_extent = Extent.from_radius(point, distance, crs=\"EPSG:27700\")\r\n",
    "places = PlacesAPI(key)\r\n",
    "addresses = places.query(radial_extent, limit=10000)\r\n",
    "print(f'There are {len(addresses[\"features\"])} addresses within {distance}m of {point}.')"
   ]
  },
  {
   "cell_type": "code",
   "execution_count": null,
   "id": "7991b26e",
   "metadata": {},
   "outputs": [],
   "source": [
    "# Convert GeoJSON results to geodataframe for plotting\n",
    "addresses_gdf = gpd.GeoDataFrame.from_features(addresses['features'], crs=crs)\n",
    "\n",
    "# Plot the results\n",
    "ax = addresses_gdf.plot(color=\"indigo\", figsize=(12, 10))\n",
    "ax.plot(*zip(*radial_extent.polygon.exterior.coords), color=\"dimgray\", linestyle='--', label=\"Extent\")\n",
    "ax.scatter(*point, color=\"mediumvioletred\", s=70, label=point)\n",
    "ctx.add_basemap(ax, source=basemap_url, crs=crs, interpolation=\"sinc\")\n",
    "ax.set_xlabel(\"Eastings\"), ax.set_ylabel(\"Northings\")\n",
    "ax.set_title(f'There are {len(addresses[\"features\"])} addresses within {distance}m of {point}.')\n",
    "plt.legend()\n",
    "plt.show()"
   ]
  },
  {
   "cell_type": "markdown",
   "id": "2d05268f",
   "metadata": {},
   "source": [
    "Notice that there looks like there are a lot less points on the map than the number of results suggested - this is because some addresses, such as those in blocks of flats, will share the same coordinates, but be at different heights."
   ]
  },
  {
   "cell_type": "markdown",
   "id": "5c9ca283",
   "metadata": {},
   "source": [
    "## Extent from ONS Code\n",
    "The Office for National Statistics maintains a source of official geographies for the UK, such as county boundaries, electoral wards, parishes, and census output areas. These boundaries are commonly used for data analysis, particularly of socio-economic factors. You can automatically define a query extent by using the ONS code for the particular area you are interested in, making it easy to combine geospatial information with other data sources, such as census records. A full list of available codes can be found [here](http://statistics.data.gov.uk/atlas/resource?uri=http://statistics.data.gov.uk/id/statistical-geography/K02000001). This example shows how you can find all the greenspace in a particular electoral ward."
   ]
  },
  {
   "cell_type": "code",
   "execution_count": null,
   "id": "0bda73c0",
   "metadata": {},
   "outputs": [],
   "source": [
    "# This is the ONS code for the Woolston electoral ward in Southampton.\n",
    "ward = \"E05002470\"\n",
    "electoral_extent = Extent.from_ons_code(ward)\n",
    "\n",
    "# Note that you cannot set the crs when requesting an ONS geography\n",
    "# The crs of the extent will always be EPSG:4326\n",
    "print(electoral_extent.crs)"
   ]
  },
  {
   "cell_type": "code",
   "execution_count": null,
   "id": "081d8c58",
   "metadata": {},
   "outputs": [],
   "source": [
    "# Query the API\n",
    "features = FeaturesAPI(key, \"zoomstack_greenspace\", electoral_extent)\n",
    "results = features.query(limit=10000)\n",
    "\n",
    "# Convert GeoJSON results to geodataframe for plotting\n",
    "results_gdf = gpd.GeoDataFrame.from_features(results['features'], crs=electoral_extent.crs)\n",
    "extent_gdf = gpd.GeoDataFrame({\"geometry\": [electoral_extent.polygon.exterior],\n",
    "                               \"ONS Code\": [ward]},\n",
    "                              crs=electoral_extent.crs)"
   ]
  },
  {
   "cell_type": "markdown",
   "id": "be08f132",
   "metadata": {},
   "source": [
    "Next we can plot the results, however the basemap has a crs of EPSG:3857 and the data has a crs of EPSG:4326, so we need to convert the data so it aligns correctly with the basemap first. We could choose to convert the basemap to match the data instead, but it results in quite a warped looking plot. "
   ]
  },
  {
   "cell_type": "code",
   "execution_count": null,
   "id": "b7322108",
   "metadata": {},
   "outputs": [],
   "source": [
    "results_gdf = results_gdf.to_crs(\"EPSG:3857\")\n",
    "extent_gdf = extent_gdf.to_crs(\"EPSG:3857\")"
   ]
  },
  {
   "cell_type": "code",
   "execution_count": null,
   "id": "bcf30a81",
   "metadata": {},
   "outputs": [],
   "source": [
    "# Plot the results.\n",
    "ax = results_gdf.plot(color=\"indigo\", figsize=(12, 10))\n",
    "extent_gdf.plot(ax=ax, edgecolor=\"dimgray\", linestyle='--', label=f\"{ward} boundary\")\n",
    "ctx.add_basemap(ax, source=basemap_url, interpolation=\"sinc\")\n",
    "ax.axes.xaxis.set_visible(False), ax.axes.yaxis.set_visible(False)\n",
    "ax.set_title(f'Zoomstack Greenspace in Woolston Electoral Ward, Southampton.')\n",
    "plt.legend()\n",
    "plt.show()"
   ]
  },
  {
   "cell_type": "code",
   "execution_count": null,
   "id": "fe9a01ea",
   "metadata": {},
   "outputs": [],
   "source": []
  }
 ],
 "metadata": {
  "kernelspec": {
   "display_name": "Python 3 (ipykernel)",
   "language": "python",
   "name": "python3"
  },
  "language_info": {
   "codemirror_mode": {
    "name": "ipython",
    "version": 3
   },
   "file_extension": ".py",
   "mimetype": "text/x-python",
   "name": "python",
   "nbconvert_exporter": "python",
   "pygments_lexer": "ipython3",
   "version": "3.9.7"
  }
 },
 "nbformat": 4,
 "nbformat_minor": 5
}
