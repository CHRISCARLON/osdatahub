{
 "cells": [
  {
   "cell_type": "markdown",
   "id": "5cef1a2d",
   "metadata": {},
   "source": [
    "# Interactive Plotting for API Results\n",
    "Interactive maps are a great way to present geospatial data, allowing people to zoom, pan, and click on results.  [Folium](https://python-visualization.github.io/folium/index.html) is a python library for making interactive maps built on top of a JavaScript mapping library called Leaflet. The results of queries made using the `osdatahub` are returned in GeoJSON format, which is an ideal input for interactive mapping libraries with JavaScript underpinnings, and the OS Maps API can supply tiles for basemaps giving that all important context to your data."
   ]
  },
  {
   "cell_type": "code",
   "execution_count": null,
   "id": "8d96e99a",
   "metadata": {},
   "outputs": [],
   "source": [
    "from datetime import datetime\n",
    "from osdatahub import Extent\n",
    "from osdatahub import FeaturesAPI \n",
    "import os\n",
    "os.environ['PROJ_NETWORK'] = 'OFF'"
   ]
  },
  {
   "cell_type": "markdown",
   "id": "9ea93767",
   "metadata": {},
   "source": [
    "## Polygons with Popups\n",
    "The example uses Zoomstack Surface Water to show how to plot the API results onto an interactive map and provide additional information about the data to users through popups."
   ]
  },
  {
   "cell_type": "markdown",
   "id": "f587e7a4",
   "metadata": {},
   "source": [
    "### Get Data from the API"
   ]
  },
  {
   "cell_type": "code",
   "execution_count": null,
   "id": "490cb998",
   "metadata": {},
   "outputs": [],
   "source": [
    "# Choose data product\n",
    "product = 'zoomstack_surface_water'\n",
    "\n",
    "# Define query extent. Folium maps use coordinates in EPSG:4326,\n",
    "# the extent is specified in degrees longitude and latitude\n",
    "W, S = (-1.328, 50.979)\n",
    "E, N = (-1.322, 50.9815)\n",
    "crs = \"EPSG:4326\"\n",
    "extent = Extent.from_bbox((W, S, E, N), crs=crs)\n",
    "\n",
    "# Query API\n",
    "key = os.environ.get(\"OS_API_KEY\")\n",
    "surface_water = FeaturesAPI(key, product, extent)\n",
    "surface_water_results = surface_water.query(limit=100000)"
   ]
  },
  {
   "cell_type": "markdown",
   "id": "76221d8b",
   "metadata": {},
   "source": [
    "### Define the Map\n",
    "The first step in creating a folium map is to create a map object. This defines the location in view when the map first loads. Folium maps always use coordinates in the WGS84 coordinate reference system, so the starting location must be specified in degrees latitude and longitude - note the order."
   ]
  },
  {
   "cell_type": "code",
   "execution_count": null,
   "id": "4cf17852",
   "metadata": {},
   "outputs": [],
   "source": [
    "import folium\n",
    "\n",
    "# Careful specifying MAP_CENTRE - is always [latitude, longitude] when\n",
    "# elsewhere you might be using [longitude, latitude].\n",
    "MAP_CENTRE = [50.98, -1.325]\n",
    "\n",
    "# m is the folium map instance all other layers will be added to.\n",
    "m = folium.Map(location=MAP_CENTRE,\n",
    "               zoom_start=16,\n",
    "               tiles=None)"
   ]
  },
  {
   "cell_type": "markdown",
   "id": "32c86dd7",
   "metadata": {},
   "source": [
    "### Add a Basemap\n",
    "This defines the base map. You can access base map tiles via the OS Maps API. By adding the Maps API to the same project as the Features API, you can use the same key for both. To find out more about API keys, check out the \"Setting up an API key\" example. Folium requires you to provide attribution for the tiles, which will be displayed with the tiles."
   ]
  },
  {
   "cell_type": "code",
   "execution_count": null,
   "id": "600dcb37",
   "metadata": {},
   "outputs": [],
   "source": [
    "LAYER = \"Outdoor_3857\"\n",
    "TILES = f\"https://api.os.uk/maps/raster/v1/zxy/{LAYER}/{{z}}/{{x}}/{{y}}.png?key={key}\"\n",
    "ATTR = f\"Contains OS data © Crown copyright and database right {datetime.now().year}\"\n",
    "\n",
    "tiles = folium.TileLayer(tiles=TILES,\n",
    "                         attr=ATTR,\n",
    "                         max_zoom=16,\n",
    "                         name='OS Maps Outdoor',\n",
    "                         control=False).add_to(m)"
   ]
  },
  {
   "cell_type": "markdown",
   "id": "3ac1d5fa",
   "metadata": {},
   "source": [
    "### Add the Data\n",
    "Add the API results to the map with a popup showing the area of each polygon."
   ]
  },
  {
   "cell_type": "code",
   "execution_count": null,
   "id": "dcf6ab14",
   "metadata": {},
   "outputs": [],
   "source": [
    "# The popup text can be populated directly from the properties of the water polygons\n",
    "# by specifying the name of the field and an optional display name.\n",
    "popup = folium.GeoJsonPopup(fields=['SHAPE_Area'], aliases=[\"Area (m2)\"])\n",
    "water_layer = folium.GeoJson(surface_water_results,\n",
    "                             name=\"Zoomstack Surface Water\",\n",
    "                             popup=popup).add_to(m)"
   ]
  },
  {
   "cell_type": "markdown",
   "id": "dc48be38",
   "metadata": {},
   "source": [
    "### Add Bounding Box"
   ]
  },
  {
   "cell_type": "code",
   "execution_count": null,
   "id": "2ef3a697",
   "metadata": {},
   "outputs": [],
   "source": [
    "from shapely.geometry import mapping\n",
    "\n",
    "# Convert the extent into GeoJSON using shapely's mapping() function\n",
    "bbox_geojson = mapping(extent.polygon)\n",
    "\n",
    "# Specify the styling for plotting the bbox.\n",
    "bbox_styling = {'fillColor': 'none',\n",
    "                'color': 'black',\n",
    "                'lineOpacity': 0.9,\n",
    "                'weight': 1.2,\n",
    "                'dashArray': 10}\n",
    "\n",
    "# Add the bounding box to the map.\n",
    "folium.GeoJson(bbox_geojson,\n",
    "               style_function=lambda x: bbox_styling,\n",
    "               name=\"Bounding Box\").add_to(m)\n",
    "\n",
    "# Add ability to toggle layers\n",
    "folium.LayerControl().add_to(m)\n",
    "\n",
    "# View the map\n",
    "m"
   ]
  },
  {
   "cell_type": "markdown",
   "id": "23e9834f",
   "metadata": {},
   "source": [
    "# Heatmaps\n",
    "This example demonstrates how to plot the density of different address types as heatmaps. Folium heatmaps show brighter colors where there are more points in an area. This is a good way to look at what areas of a town are residential vs retail, for example. In this example, you can clearly see where the local high street is and where housing tends to be terraced vs semi-detached."
   ]
  },
  {
   "cell_type": "markdown",
   "id": "cc66b5c3",
   "metadata": {},
   "source": [
    "### Get Data From the API\n",
    "With the option to define the extent of a query using an ONS code, this query finds the location of all addresses within a particular Lower Super Output Area. The resulting points are split into seperate lists depending on the classification of the address."
   ]
  },
  {
   "cell_type": "code",
   "execution_count": null,
   "id": "f70b98c2",
   "metadata": {},
   "outputs": [],
   "source": [
    "from osdatahub import PlacesAPI\n",
    "from collections import defaultdict\n",
    "\n",
    "# Define the extent as Portswood LSOA\n",
    "portswood = \"E01017235\"\n",
    "extent = Extent.from_ons_code(portswood)\n",
    "\n",
    "# Query the API\n",
    "places = PlacesAPI(key)\n",
    "addresses = places.query(extent=extent, output_crs=crs, limit=10000)\n",
    "\n",
    "# Split the results by classification. This makes a dictionary with the keys being\n",
    "# the classifications and the values a list of all addresses with that classification.\n",
    "classifications = defaultdict(list)\n",
    "for feature in addresses[\"features\"]:\n",
    "    address_classification = feature[\"properties\"]['CLASSIFICATION_CODE_DESCRIPTION']\n",
    "    # Notice the [::-1] at the end. The reverses the coordinates because\n",
    "    # folium uses (lat, lon), rather than (x, y)\n",
    "    classifications[address_classification].append(feature[\"geometry\"][\"coordinates\"][::-1])"
   ]
  },
  {
   "cell_type": "markdown",
   "id": "a3681339",
   "metadata": {},
   "source": [
    "### Define the Map"
   ]
  },
  {
   "cell_type": "code",
   "execution_count": null,
   "id": "5ab041cd",
   "metadata": {},
   "outputs": [],
   "source": [
    "from folium.plugins import HeatMap\n",
    "\n",
    "# Define the map\n",
    "m = folium.Map(location=[50.924, -1.391],\n",
    "               zoom_start=16,\n",
    "               tiles=None)\n",
    "# Add the basemap tiles \n",
    "folium.TileLayer(tiles=TILES,\n",
    "                 attr=ATTR,\n",
    "                 max_zoom=16,\n",
    "                 name='OS Maps Light',\n",
    "                 control=False).add_to(m)\n",
    "\n",
    "# Add the extent\n",
    "extent_geojson = mapping(extent.polygon)\n",
    "extent_layer = folium.GeoJson(extent_geojson,\n",
    "                              style_function=lambda x: bbox_styling,\n",
    "                              name=f\"{portswood} Ward Boundary\", control=False).add_to(m)"
   ]
  },
  {
   "cell_type": "markdown",
   "id": "87cac2f3",
   "metadata": {},
   "source": [
    "### Plot Heatmaps by Address Classification\n",
    "Adding each classification seperately let the users select which classification they are interested in from the layers panel that appears in the top right of the map."
   ]
  },
  {
   "cell_type": "code",
   "execution_count": null,
   "id": "0f2b8859",
   "metadata": {},
   "outputs": [],
   "source": [
    "# Loop through the classifications, adding each one as a layer\n",
    "for classification, points in classifications.items():\n",
    "    HeatMap(points, radius=20, blur=25, name=classification, overlay=False).add_to(m)\n",
    "\n",
    "# Add the ability to toggle between the different classification heatmaps.\n",
    "folium.LayerControl().add_to(m)\n",
    "m"
   ]
  },
  {
   "cell_type": "code",
   "execution_count": null,
   "id": "f2c0c48a",
   "metadata": {},
   "outputs": [],
   "source": []
  }
 ],
 "metadata": {
  "kernelspec": {
   "display_name": "Python 3",
   "language": "python",
   "name": "python3"
  },
  "language_info": {
   "codemirror_mode": {
    "name": "ipython",
    "version": 3
   },
   "file_extension": ".py",
   "mimetype": "text/x-python",
   "name": "python",
   "nbconvert_exporter": "python",
   "pygments_lexer": "ipython3",
   "version": "3.8.5"
  }
 },
 "nbformat": 4,
 "nbformat_minor": 5
}
