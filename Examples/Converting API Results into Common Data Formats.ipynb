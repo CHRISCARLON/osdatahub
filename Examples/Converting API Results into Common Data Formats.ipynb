{
 "cells": [
  {
   "cell_type": "markdown",
   "metadata": {
    "pycharm": {
     "name": "#%% md\n"
    }
   },
   "source": [
    "# Format Conversion\r\n",
    "\r\n",
    "This notebook shows you how to convert the output of `osdatahub` into common formats for further processing. We will be\r\n",
    "converting data from the OS API into a [GeoPandas GeoDataframe](https://geopandas.org/en/stable/docs/reference/api/geopandas.GeoDataFrame.html)\r\n",
    " and a Shapely [GeometryCollection](https://shapely.readthedocs.io/en/stable/manual.html#collections).\r\n",
    "\r\n",
    "## Table of Contents\r\n",
    "1. [Access Data from API](#get-data)\r\n",
    "2. [Geopandas](#geopandas)\r\n",
    "3. [Shapely](#shapely)\r\n"
   ]
  },
  {
   "cell_type": "markdown",
   "metadata": {
    "pycharm": {
     "name": "#%% md\n"
    }
   },
   "source": [
    "## Getting the Data <a href=get-data>\n",
    "\n",
    "We will be getting data from OS DataHub's [Features API](https://osdatahub.os.uk/docs/wfs/technicalSpecification), specifically\n",
    "the OS Open Zoomstack for Local Buildings."
   ]
  },
  {
   "cell_type": "code",
   "execution_count": null,
   "metadata": {
    "pycharm": {
     "name": "#%%\n"
    }
   },
   "outputs": [],
   "source": [
    "# first, we must import the correct libraries\r\n",
    "import geopandas as gpd\r\n",
    "from osdatahub import Extent\r\n",
    "from osdatahub import FeaturesAPI \r\n",
    "import os\r\n",
    "\r\n",
    "os.environ['PROJ_NETWORK'] = 'OFF'"
   ]
  },
  {
   "cell_type": "code",
   "execution_count": null,
   "metadata": {
    "pycharm": {
     "name": "#%%\n"
    }
   },
   "outputs": [],
   "source": [
    "# next, we define the API key, the DataHub product we need, and the area of interest\n",
    "\n",
    "key = os.environ.get(\"OS_API_KEY\") # can also swap this with your key as a string\n",
    "product = \"zoomstack_local_buildings\"\n",
    "\n",
    "# we are going to choose an extent in Avon, Somerset\n",
    "W, S = (342730, 137700)\n",
    "E, N = (347700, 141642)\n",
    "\n",
    "crs = \"EPSG:27700\" # Specify the British National Grid coordinate reference system\n",
    "extent = Extent.from_bbox((W, S, E, N), crs=crs)"
   ]
  },
  {
   "cell_type": "code",
   "execution_count": null,
   "metadata": {
    "pycharm": {
     "name": "#%%\n"
    }
   },
   "outputs": [],
   "source": [
    "# create a FeaturesAPI object containing the API key, the product, and the area of interest\n",
    "local_buildings = FeaturesAPI(key, product, extent)\n",
    "\n",
    "local_buildings_results = local_buildings.query(limit=100000)\n",
    "local_buildings_results"
   ]
  },
  {
   "cell_type": "markdown",
   "metadata": {
    "pycharm": {
     "name": "#%% md\n"
    }
   },
   "source": [
    "## GeoPandas <a href=geopandas>\n",
    "\n",
    "The FeaturesAPI query function returns a GeoJSON, making it simple to convert into other common data formats. GeoPandas\n",
    "has a function called [from_features](https://geopandas.org/en/stable/docs/reference/api/geopandas.GeoDataFrame.from_features.html)\n",
    "that will handle the conversion for us"
   ]
  },
  {
   "cell_type": "code",
   "execution_count": null,
   "metadata": {
    "pycharm": {
     "name": "#%%\n"
    }
   },
   "outputs": [],
   "source": [
    "local_buildings_gdf = gpd.GeoDataFrame.from_features(local_buildings_results['features'], crs=crs)\n",
    "local_buildings_gdf"
   ]
  },
  {
   "cell_type": "code",
   "execution_count": null,
   "metadata": {
    "pycharm": {
     "name": "#%%\n"
    }
   },
   "outputs": [],
   "source": [
    "# plot the results\n",
    "local_buildings_gdf.plot()\n"
   ]
  },
  {
   "cell_type": "markdown",
   "metadata": {
    "pycharm": {
     "name": "#%% md\n"
    }
   },
   "source": [
    "## Shapely <a href=shapely>\n",
    "\n",
    "Similarly, it only takes a single line to convert the GeoJSON into a Shapely Geometry Collection. If we take the results from\n",
    "the FeaturesAPI call that we implemented above, we can convert into a GeometryCollection by looping through each\n",
    "geometry in the results."
   ]
  },
  {
   "cell_type": "code",
   "execution_count": null,
   "metadata": {
    "pycharm": {
     "name": "#%%\n"
    }
   },
   "outputs": [],
   "source": [
    "from shapely.geometry import shape, GeometryCollection\n",
    "\n",
    "# NOTE: buffer(0) is a trick for fixing scenarios where polygons have overlapping coordinates\n",
    "GeometryCollection([shape(feature[\"geometry\"]).buffer(0) for feature in local_buildings_results[\"features\"]])\n"
   ]
  },
  {
   "cell_type": "markdown",
   "metadata": {
    "pycharm": {
     "name": "#%% md\n"
    }
   },
   "source": [
    "If\n",
    "\n"
   ]
  }
 ],
 "metadata": {
  "kernelspec": {
   "display_name": "Python 3",
   "language": "python",
   "name": "python3"
  },
  "language_info": {
   "codemirror_mode": {
    "name": "ipython",
    "version": 2
   },
   "file_extension": ".py",
   "mimetype": "text/x-python",
   "name": "python",
   "nbconvert_exporter": "python",
   "pygments_lexer": "ipython2",
   "version": "2.7.6"
  }
 },
 "nbformat": 4,
 "nbformat_minor": 0
}
