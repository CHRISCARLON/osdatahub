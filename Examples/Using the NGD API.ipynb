{
 "cells": [
  {
   "cell_type": "markdown",
   "metadata": {
    "collapsed": false
   },
   "source": [
    "**JavaScript Developer?** The [JavaScript version of the `osdatahub` library](https://github.com/OrdnanceSurvey/osdatahub-js) makes it easy to use OS data in the browser or in NodeJS."
   ]
  },
  {
   "cell_type": "markdown",
   "metadata": {},
   "source": [
    "# Using the NGD Features API with Python\n",
    "\n",
    "The National Geographic Database (NGD) Features API provides access to Ordnance Survey's next generation NGD data.  \n",
    "The NGD Features API is a premium or public sector product only. If you are looking to access free data, you should use the [OS Features API](https://osdatahub.os.uk/docs/wfs/overview).\n",
    "\n",
    "There are many ways to access the National Geographic Database:\n",
    "- If you'd like to download data using a GUI, [Select+Build](https://www.ordnancesurvey.co.uk/business-government/products/os-select-build), allows you to download multiple types of features at once, delivered as part of the [OS Data Hub](https://osdatahub.os.uk).\n",
    "- The [NGD Features API](https://www.ordnancesurvey.co.uk/business-government/products/os-ngd-api-features) allows for programatic access to NGD data in `GeoJSON` format.\n",
    "\n",
    "For Python developers, the [`osdatahub`](https://github.com/OrdnanceSurvey/osdatahub) Python library wraps almost all APIs in the [OS Data Hub](https://osdatahub.os.uk/) and provides an easy, Pythonic way to get data from Ordnance Survey. We have now added support for the NGD Features API, so you can access OS' latest product and next-generation data with only a few lines of Python code."
   ]
  },
  {
   "cell_type": "markdown",
   "metadata": {},
   "source": [
    "## 1. Getting Started"
   ]
  },
  {
   "cell_type": "markdown",
   "metadata": {},
   "source": [
    "### 1.1 Importing your OS Data Hub API Key\n",
    "In order to access the NGD, you  must first have an OS Data Hub API key, a notebook explaining the process of registering an account and getting an API key is available to read [here](https://github.com/OrdnanceSurvey/osdatahub/blob/master/Examples/Setting%20up%20an%20API%20key.ipynb). When you're choosing which APIs you want to add to your project, you must select \"OS NGD API - Features\" to use NGD data.\n",
    "\n",
    "\n",
    "Once you have an API key, you can load your API key in by either passing it in as a string, or setting it as an environment variable. We recommend using the [`python-dotenv`](https://pypi.org/project/python-dotenv/) library to securely store your API keys in a `.env` file without risk of accidentally committing them in your repo (by adding it to your `.gitignore` file).\n",
    "\n",
    "To use the `python-dotenv` package, simply:\n",
    "1. Install with pip: `pip install python-dotenv`\n",
    "2. Create a `.env` file in the root directory of your project\n",
    "3. Add your API key to the file: `OS_API_KEY=[YOUR API KEY HERE]`"
   ]
  },
  {
   "cell_type": "code",
   "execution_count": null,
   "metadata": {
    "collapsed": false
   },
   "outputs": [],
   "source": [
    "# Option 1: Assign as a string\n",
    "# This is less secure, you may commit your API key by accident!\n",
    "key = \"YOUR API KEY HERE\"\n",
    "\n",
    "# Option 2: Use python-dotenv\n",
    "# This will load environment variables into memory from a .env file\n",
    "from dotenv import load_dotenv\n",
    "from os import environ\n",
    "load_dotenv()\n",
    "key = environ.get(\"OS_API_KEY\")"
   ]
  },
  {
   "cell_type": "markdown",
   "metadata": {},
   "source": [
    "Nice one! We can now read the contents of the `key` variable to make sure that worked as expected:"
   ]
  },
  {
   "cell_type": "code",
   "execution_count": null,
   "metadata": {},
   "outputs": [],
   "source": [
    "# 🔎 run this cell to view your API key:\n",
    "print(f'🔑 Your OS Data Hub key is {key}')"
   ]
  },
  {
   "cell_type": "markdown",
   "metadata": {},
   "source": [
    "### 1.2 Importing the NGD Module\n",
    "To import the NGD module from `osdatahub`, write the following:"
   ]
  },
  {
   "cell_type": "code",
   "execution_count": null,
   "metadata": {},
   "outputs": [],
   "source": [
    "from osdatahub import NGD"
   ]
  },
  {
   "cell_type": "markdown",
   "metadata": {
    "collapsed": false
   },
   "source": [
    "## 2. Discovering Collections\n",
    "The NGD contains multiple themes and collections:\n",
    "- A `theme` is a family of `collections`, for example, there is a theme called 'Buildings'.\n",
    "- A `collection` is a group of features. The Buildings theme contains two collections: 'BuildingLine' and 'BuildingPart'.\n",
    "\n",
    "You can read more about the NGD Features API's themes and collections in the [Technical Specification](https://osdatahub.os.uk/docs/ofa/technicalSpecification)."
   ]
  },
  {
   "cell_type": "markdown",
   "metadata": {},
   "source": [
    "To quickly retrieve a list of available data, you can query the API directly using the `NGD` module we previously imported:"
   ]
  },
  {
   "cell_type": "code",
   "execution_count": null,
   "metadata": {
    "collapsed": false
   },
   "outputs": [],
   "source": [
    "ngd_collections = NGD.get_collections()"
   ]
  },
  {
   "cell_type": "markdown",
   "metadata": {},
   "source": [
    "This will return a JSON object, which we can then interate through to return metadata about each collection."
   ]
  },
  {
   "cell_type": "code",
   "execution_count": null,
   "metadata": {},
   "outputs": [],
   "source": [
    "# 🔎 run this cell to view a list of all available NGD collections\n",
    "for collection in ngd_collections['collections']:\n",
    "    print(f' - {collection[\"title\"]} ({collection[\"id\"]})')"
   ]
  },
  {
   "cell_type": "markdown",
   "metadata": {
    "collapsed": false
   },
   "source": [
    "## 3. Loading NGD Data into a GeoDataFrame\n",
    "We'll now walk through the process of acquiring data from the NGD Building Part collection (`bld-fts-buildingpart`) and importing this data into a GeoDataFrame.  "
   ]
  },
  {
   "cell_type": "markdown",
   "metadata": {},
   "source": [
    "### 3.1 Requesting NGD Data\n",
    "To get the first 100 features in the collection, you simply need to make an `NGD` object and then run the `query()` method:"
   ]
  },
  {
   "cell_type": "code",
   "execution_count": null,
   "metadata": {
    "collapsed": false
   },
   "outputs": [],
   "source": [
    "collection = \"bld-fts-buildingpart\"\n",
    "ngd_building_part = NGD(key, collection)\n",
    "\n",
    "# make the query and contact the API\n",
    "features = ngd_building_part.query()"
   ]
  },
  {
   "cell_type": "markdown",
   "metadata": {
    "collapsed": false
   },
   "source": [
    "The API returns an OGC-compliant GeoJSON, which is easy to import into other libraries for analysis."
   ]
  },
  {
   "cell_type": "markdown",
   "metadata": {},
   "source": [
    "\n",
    "### 3.2 Importing into a GeoDataFrame\n",
    "If you haven't already, import the `geopandas` library:"
   ]
  },
  {
   "cell_type": "code",
   "execution_count": null,
   "metadata": {
    "collapsed": false
   },
   "outputs": [],
   "source": [
    "import geopandas as gpd"
   ]
  },
  {
   "cell_type": "markdown",
   "metadata": {},
   "source": [
    "And now, import the NGD data using the `.from_features` function."
   ]
  },
  {
   "cell_type": "code",
   "execution_count": null,
   "metadata": {},
   "outputs": [],
   "source": [
    "gdf = gpd.GeoDataFrame.from_features(features)"
   ]
  },
  {
   "cell_type": "markdown",
   "metadata": {},
   "source": [
    "Let's take a look at a preview of the data (the `.head` function). As you'll see, NGD data is rich in attribution:"
   ]
  },
  {
   "cell_type": "code",
   "execution_count": null,
   "metadata": {},
   "outputs": [],
   "source": [
    "# 🔎 run this cell to preview the contents of the GeoDataFrame\n",
    "gdf.head()"
   ]
  },
  {
   "cell_type": "markdown",
   "metadata": {
    "collapsed": false
   },
   "source": [
    "You can learn more about importing data from the `osdatahub` package into other common Python libraries [in this example](https://github.com/OrdnanceSurvey/osdatahub/blob/master/Examples/Plotting%20API%20Results%20-%20GeoPandas%2C%20Matplotlib%20and%20Contextily.ipynb)."
   ]
  },
  {
   "cell_type": "markdown",
   "metadata": {
    "collapsed": false
   },
   "source": [
    "## 4. Adding Filters\n",
    "\n",
    "Filters can help you limit the scope of your query, using spatial, temporal and contextual parameters.  \n",
    "The NGD Features API uses Common Query Language (CQL) to allow you to filter data using the attribution set of each collection.\n",
    "\n",
    "- Spatial: `extent`  \n",
    "You can specify any polygon to query by using the `Extent` class. You can learn more about using `Extent` [here](https://github.com/OrdnanceSurvey/osdatahub/blob/master/Examples/Defining%20Extents%20for%20API%20Queries.ipynb)\n",
    "\n",
    "- Temporal: `start_datetime` and `end_datetime`  \n",
    "If you want to only get features that have a temporal property, you can specify date ranges to query within. If you want to get features for a single time, simply provide the same argument for both parameters.\n",
    "\n",
    "- Contextual: `cql_filter`  \n",
    "The NGD API supports a generic filter grammar called the Common Query Language (CQL) to further filter your query using human readable commands. You can find out more about the operations that the API supports in the Queryables section of the [Technical Specification](https://osdatahub.os.uk/docs/ofa/technicalSpecification). The CQL filter allows you to specify specific properties for features as well as spatial filters.\n",
    "\n",
    "In addition, the `osdatahub` library permits you to specify the maximum number of features to return (by default, 100 features):\n",
    "\n",
    "- `max_results`  \n",
    "Allows you to specify the maximum number of features you'd like to receive. Default is 100.\n",
    "\n",
    "- `offset`  \n",
    "Skips past the specified number of features in the collection. Default is 0."
   ]
  },
  {
   "cell_type": "markdown",
   "metadata": {},
   "source": [
    "### 4.1 Specifying an Extent (Bounding Box)\n",
    "\n",
    "In our case, we want to get features that are only within a certain bounding box in Manchester.  \n",
    "We can specify an extent using the `Extent` submodule:"
   ]
  },
  {
   "cell_type": "code",
   "execution_count": null,
   "metadata": {},
   "outputs": [],
   "source": [
    "from osdatahub import Extent"
   ]
  },
  {
   "cell_type": "markdown",
   "metadata": {},
   "source": [
    "Now we can use the `Extent` module to specify the geometry, and then pass this into the `ngdBuildingPart` query:"
   ]
  },
  {
   "cell_type": "code",
   "execution_count": null,
   "metadata": {
    "collapsed": false
   },
   "outputs": [],
   "source": [
    "extent = Extent.from_bbox((-2.244973,53.476620,-2.237799,53.480525), crs=\"CRS84\")\n",
    "features = ngd_building_part.query(extent=extent)\n",
    "\n",
    "# 🔎 run this cell to see the contents of 'features'\n",
    "features"
   ]
  },
  {
   "cell_type": "markdown",
   "metadata": {
    "collapsed": false
   },
   "source": [
    "### 4.2 Custom Paging Parameters\n",
    "By default, the `NGD` module will return a maximum 100 features - starting at zero. This behaviour can be altered by specifying `max_results` and `offset` parameters.  \n",
    "*We'll build on the previous example, specifying the same extent as before...*"
   ]
  },
  {
   "cell_type": "code",
   "execution_count": null,
   "metadata": {},
   "outputs": [],
   "source": [
    "# returns a maximum of 50 results (features 0 to 50)\n",
    "features = ngd_building_part.query(extent=extent, max_results=50)\n",
    "\n",
    "# returns a maximum of 50 results (features 100 to 150\n",
    "features = ngd_building_part.query(extent=extent, offset=100, max_results=50)\n",
    "\n",
    "# 🔎 run this cell to see the contents of 'features'\n",
    "features"
   ]
  },
  {
   "cell_type": "markdown",
   "metadata": {},
   "source": [
    "### 4.3 Applying CQL Filters\n",
    "Common Query Language (CQL) filters are a handy way in which you can tailor the results of your query to match specific needs. More information on CQL filters can be found [here](https://labs.os.uk/public/osngd/tutorials/articles/#filtering-and-cql). We can pass a filter into the API using the `filter` parameter."
   ]
  },
  {
   "cell_type": "code",
   "execution_count": null,
   "metadata": {},
   "outputs": [],
   "source": [
    "# Building off the same extent covering Manchester, filtering by buildings larger than or equal to 20m^2 and with a maximum height greater than 60m.\n",
    "# At the time of writing, this returns 7 features (buildings)\n",
    "features = ngd_building_part.query(extent=extent, cql_filter='geometry_area>=200 AND relativeheightmaximum>60')\n",
    "\n",
    "# 🔎 run this cell to see the contents of 'features'\n",
    "features"
   ]
  },
  {
   "cell_type": "markdown",
   "metadata": {},
   "source": [
    "## 5. Conclusion\n",
    "\n",
    "We hope this short introduction to the `osdatahub` package's new NGD capabilities has been useful!  \n",
    "You can find further resources to assist you on your OS API development journey at: [https://github.com/OrdnanceSurvey/os-api-resources](https://github.com/OrdnanceSurvey/os-api-resources)"
   ]
  }
 ],
 "metadata": {
  "kernelspec": {
   "display_name": "Python 3.9.13 ('osdatahub')",
   "language": "python",
   "name": "python3"
  },
  "language_info": {
   "codemirror_mode": {
    "name": "ipython",
    "version": 3
   },
   "file_extension": ".py",
   "mimetype": "text/x-python",
   "name": "python",
   "nbconvert_exporter": "python",
   "pygments_lexer": "ipython3",
   "version": "3.9.13"
  },
  "vscode": {
   "interpreter": {
    "hash": "2a0b2fe6f857f650798462ef378384af4c2c1efd820a56175b18820cff923d83"
   }
  }
 },
 "nbformat": 4,
 "nbformat_minor": 0
}
