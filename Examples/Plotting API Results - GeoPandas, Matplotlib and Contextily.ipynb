{
 "cells": [
  {
   "cell_type": "markdown",
   "id": "00be4285",
   "metadata": {},
   "source": [
    "# Plotting API Results: GeoPandas, Matplotlib and Contextily\n",
    "\n",
    "The quickest way to get a plot of your results is by using [GeoPandas](https://geopandas.org/en/stable/index.html) and its in-built [Matplotlib](https://matplotlib.org/stable/index.html) functionality. There are some good examples of the range of visualizations GeoPandas supports in their [gallery](https://geopandas.org/en/stable/gallery/index.html). The addition of [Contextily](https://contextily.readthedocs.io/en/stable/) lets you add basemaps to your plots, giving your data real world context."
   ]
  },
  {
   "cell_type": "markdown",
   "id": "766e0533",
   "metadata": {},
   "source": [
    "## GeoPandas\n",
    "The API returns GeoJSON, which can be used to make a GeoPandas GeoDataFrame. GeoDataFrames work in a very similar way to Pandas DataFrames, with the additional capability for manipulating geospatial data. GeoPandas allows you to quickly visualize the data returned by your API query, using the coordinate reference system of the data to accurately plot the spatial relationships. Plotting this way can an be useful to quickly check your API query results are looking like you were expecting, as well as giving you options to produce highly polished plots (see their [gallery](https://geopandas.org/en/stable/gallery/index.html) for more ideas).\n",
    "\n",
    "This example requests surface water features along a section of the Glastonbury Canal in Somerset from the Zoomstack Surface Water product via the Features API and then makes a simple plot to show what was returned."
   ]
  },
  {
   "cell_type": "code",
   "execution_count": null,
   "id": "bc69cf04",
   "metadata": {},
   "outputs": [],
   "source": [
    "import geopandas as gpd\r\n",
    "import matplotlib.pyplot as plt\r\n",
    "from osdatahub import Extent\r\n",
    "from osdatahub import FeaturesAPI \r\n",
    "import os\r\n",
    "os.environ['PROJ_NETWORK'] = 'OFF'"
   ]
  },
  {
   "cell_type": "code",
   "execution_count": null,
   "id": "78f72eaa",
   "metadata": {},
   "outputs": [],
   "source": [
    "# Choose data product\n",
    "product = 'zoomstack_surface_water'\n",
    "\n",
    "# Define query extent\n",
    "W, S = (342730, 137700)\n",
    "E, N = (347700, 141642)\n",
    "crs = \"EPSG:27700\"\n",
    "extent = Extent.from_bbox((W, S, E, N), crs=crs)\n",
    "\n",
    "# Query API\n",
    "key = os.environ.get(\"OS_API_KEY\")\n",
    "surface_water = FeaturesAPI(key, product, extent)\n",
    "surface_water_results = surface_water.query(limit=100000)"
   ]
  },
  {
   "cell_type": "markdown",
   "id": "1e2ff47d",
   "metadata": {},
   "source": [
    "The API results are in GeoJSON format. We can use the [`geopandas.GeoDataFrame.from_features()`](https://geopandas.org/en/stable/docs/reference/api/geopandas.GeoDataFrame.from_features.html?highlight=from_features) method to convert the dictionary-like format of GeoJSON into the easy to manipulate GeoDataFrame format. "
   ]
  },
  {
   "cell_type": "code",
   "execution_count": null,
   "id": "52e01907",
   "metadata": {},
   "outputs": [],
   "source": [
    "surface_water_gdf = gpd.GeoDataFrame.from_features(surface_water_results['features'], crs=crs)"
   ]
  },
  {
   "cell_type": "markdown",
   "id": "54f83765",
   "metadata": {},
   "source": [
    "Now it is as simple as calling `.plot()` on the dataframes, including some optional styling parameters, to visualise the results."
   ]
  },
  {
   "cell_type": "code",
   "execution_count": null,
   "id": "6b911fb1",
   "metadata": {},
   "outputs": [],
   "source": [
    "ax = surface_water_gdf.plot(color=\"indigo\", figsize=(12, 10))\n",
    "\n",
    "# Plot the query extent\n",
    "ax.plot(*zip(*extent.polygon.exterior.coords), color=\"dimgray\",\n",
    "        linestyle='--', label=\"Bounding Box\")\n",
    "\n",
    "# Define limits of the plot\n",
    "bounds = extent.polygon.bounds\n",
    "# margin adds a bit of space around the bounding box\n",
    "margin = 500\n",
    "x_limits = (bounds[0] - margin, bounds[2] + margin)\n",
    "y_limits = (bounds[1] - margin, bounds[3] + margin)\n",
    "ax.set_xlim(*x_limits)\n",
    "ax.set_ylim(*y_limits)\n",
    "\n",
    "# Add labels\n",
    "ax.set_xlabel(\"Eastings\")\n",
    "ax.set_ylabel(\"Northings\")\n",
    "ax.set_title(\"Zoomstack Surface Water\")\n",
    "plt.legend()\n",
    "plt.show()"
   ]
  },
  {
   "cell_type": "markdown",
   "id": "9c5d68e6",
   "metadata": {},
   "source": [
    "This plot show us the features returned from the API and plots them correctly in geographic space. Once we've checked the results look sensible, it would be nice to see how the features relate to the rest of the geography of the area. To do this we might want to add a base map, which we can do using Contextily."
   ]
  },
  {
   "cell_type": "markdown",
   "id": "b2052b26",
   "metadata": {},
   "source": [
    "## Contextily\n",
    "[Contextily](https://contextily.readthedocs.io/en/stable/) works with matplotlib plots to supply a basemap you can plot your query results onto. You can use the OS Maps API with contextily to get a variety of different basemaps. Find out more about the OS Maps API [here](https://osdatahub.os.uk/docs/wmts/overview)."
   ]
  },
  {
   "cell_type": "code",
   "execution_count": null,
   "id": "bd9f71b3",
   "metadata": {},
   "outputs": [],
   "source": [
    "import contextily as ctx\n",
    "\n",
    "# Make the same plot as above, ready to add in a base map.\n",
    "ax = surface_water_gdf.plot(color=\"indigo\", figsize=(12, 10))\n",
    "ax.plot(*zip(*extent.polygon.exterior.coords), color=\"dimgray\",\n",
    "        linestyle='--', label=\"Bounding Box\")\n",
    "\n",
    "# Define limits of the plot\n",
    "ax.set_xlim(*x_limits)\n",
    "ax.set_ylim(*y_limits)\n",
    "\n",
    "# Add title and labels\n",
    "ax.set_xlabel(\"Eastings\")\n",
    "ax.set_ylabel(\"Northings\")\n",
    "ax.set_title(\"Zoomstack Surface Water\")\n",
    "plt.legend()\n",
    "\n",
    "# Add the basemap. Note: contextily only works with EPSG:3857 basemaps, but will convert it to match the data crs\n",
    "basemap_url = \"https://api.os.uk/maps/raster/v1/zxy/Light_3857/{z}/{x}/{y}.png?key=\" + key\n",
    "ctx.add_basemap(ax, source=basemap_url, crs=surface_water_gdf.crs, interpolation=\"sinc\")\n",
    "\n",
    "plt.show()"
   ]
  },
  {
   "cell_type": "code",
   "execution_count": null,
   "id": "6b2b63a5",
   "metadata": {},
   "outputs": [],
   "source": []
  }
 ],
 "metadata": {
  "kernelspec": {
   "display_name": "Python 3 (ipykernel)",
   "language": "python",
   "name": "python3"
  },
  "language_info": {
   "codemirror_mode": {
    "name": "ipython",
    "version": 3
   },
   "file_extension": ".py",
   "mimetype": "text/x-python",
   "name": "python",
   "nbconvert_exporter": "python",
   "pygments_lexer": "ipython3",
   "version": "3.9.7"
  }
 },
 "nbformat": 4,
 "nbformat_minor": 5
}
